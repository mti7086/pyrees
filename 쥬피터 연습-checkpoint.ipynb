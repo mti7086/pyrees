{
 "cells": [
  {
   "cell_type": "code",
   "execution_count": 4,
   "metadata": {},
   "outputs": [
    {
     "data": {
      "text/html": [
       "<div>\n",
       "<style scoped>\n",
       "    .dataframe tbody tr th:only-of-type {\n",
       "        vertical-align: middle;\n",
       "    }\n",
       "\n",
       "    .dataframe tbody tr th {\n",
       "        vertical-align: top;\n",
       "    }\n",
       "\n",
       "    .dataframe thead th {\n",
       "        text-align: right;\n",
       "    }\n",
       "</style>\n",
       "<table border=\"1\" class=\"dataframe\">\n",
       "  <thead>\n",
       "    <tr style=\"text-align: right;\">\n",
       "      <th></th>\n",
       "      <th></th>\n",
       "      <th>close</th>\n",
       "      <th>high</th>\n",
       "      <th>low</th>\n",
       "      <th>open</th>\n",
       "      <th>volume</th>\n",
       "      <th>adjClose</th>\n",
       "      <th>adjHigh</th>\n",
       "      <th>adjLow</th>\n",
       "      <th>adjOpen</th>\n",
       "      <th>adjVolume</th>\n",
       "      <th>divCash</th>\n",
       "      <th>splitFactor</th>\n",
       "    </tr>\n",
       "    <tr>\n",
       "      <th>symbol</th>\n",
       "      <th>date</th>\n",
       "      <th></th>\n",
       "      <th></th>\n",
       "      <th></th>\n",
       "      <th></th>\n",
       "      <th></th>\n",
       "      <th></th>\n",
       "      <th></th>\n",
       "      <th></th>\n",
       "      <th></th>\n",
       "      <th></th>\n",
       "      <th></th>\n",
       "      <th></th>\n",
       "    </tr>\n",
       "  </thead>\n",
       "  <tbody>\n",
       "    <tr>\n",
       "      <td rowspan=\"5\" valign=\"top\">GOOG</td>\n",
       "      <td>2016-04-28 00:00:00+00:00</td>\n",
       "      <td>691.02</td>\n",
       "      <td>714.17</td>\n",
       "      <td>689.55</td>\n",
       "      <td>708.26</td>\n",
       "      <td>2867255</td>\n",
       "      <td>691.02</td>\n",
       "      <td>714.17</td>\n",
       "      <td>689.55</td>\n",
       "      <td>708.26</td>\n",
       "      <td>2867255</td>\n",
       "      <td>0.0</td>\n",
       "      <td>1.0</td>\n",
       "    </tr>\n",
       "    <tr>\n",
       "      <td>2016-04-29 00:00:00+00:00</td>\n",
       "      <td>693.01</td>\n",
       "      <td>697.62</td>\n",
       "      <td>689.00</td>\n",
       "      <td>690.70</td>\n",
       "      <td>2487673</td>\n",
       "      <td>693.01</td>\n",
       "      <td>697.62</td>\n",
       "      <td>689.00</td>\n",
       "      <td>690.70</td>\n",
       "      <td>2487673</td>\n",
       "      <td>0.0</td>\n",
       "      <td>1.0</td>\n",
       "    </tr>\n",
       "    <tr>\n",
       "      <td>2016-05-02 00:00:00+00:00</td>\n",
       "      <td>698.21</td>\n",
       "      <td>700.64</td>\n",
       "      <td>691.00</td>\n",
       "      <td>697.63</td>\n",
       "      <td>1645265</td>\n",
       "      <td>698.21</td>\n",
       "      <td>700.64</td>\n",
       "      <td>691.00</td>\n",
       "      <td>697.63</td>\n",
       "      <td>1645265</td>\n",
       "      <td>0.0</td>\n",
       "      <td>1.0</td>\n",
       "    </tr>\n",
       "    <tr>\n",
       "      <td>2016-05-03 00:00:00+00:00</td>\n",
       "      <td>692.36</td>\n",
       "      <td>697.84</td>\n",
       "      <td>692.00</td>\n",
       "      <td>696.87</td>\n",
       "      <td>1543785</td>\n",
       "      <td>692.36</td>\n",
       "      <td>697.84</td>\n",
       "      <td>692.00</td>\n",
       "      <td>696.87</td>\n",
       "      <td>1543785</td>\n",
       "      <td>0.0</td>\n",
       "      <td>1.0</td>\n",
       "    </tr>\n",
       "    <tr>\n",
       "      <td>2016-05-04 00:00:00+00:00</td>\n",
       "      <td>695.70</td>\n",
       "      <td>699.75</td>\n",
       "      <td>689.01</td>\n",
       "      <td>690.49</td>\n",
       "      <td>1693525</td>\n",
       "      <td>695.70</td>\n",
       "      <td>699.75</td>\n",
       "      <td>689.01</td>\n",
       "      <td>690.49</td>\n",
       "      <td>1693525</td>\n",
       "      <td>0.0</td>\n",
       "      <td>1.0</td>\n",
       "    </tr>\n",
       "  </tbody>\n",
       "</table>\n",
       "</div>"
      ],
      "text/plain": [
       "                                   close    high     low    open   volume  \\\n",
       "symbol date                                                                 \n",
       "GOOG   2016-04-28 00:00:00+00:00  691.02  714.17  689.55  708.26  2867255   \n",
       "       2016-04-29 00:00:00+00:00  693.01  697.62  689.00  690.70  2487673   \n",
       "       2016-05-02 00:00:00+00:00  698.21  700.64  691.00  697.63  1645265   \n",
       "       2016-05-03 00:00:00+00:00  692.36  697.84  692.00  696.87  1543785   \n",
       "       2016-05-04 00:00:00+00:00  695.70  699.75  689.01  690.49  1693525   \n",
       "\n",
       "                                  adjClose  adjHigh  adjLow  adjOpen  \\\n",
       "symbol date                                                            \n",
       "GOOG   2016-04-28 00:00:00+00:00    691.02   714.17  689.55   708.26   \n",
       "       2016-04-29 00:00:00+00:00    693.01   697.62  689.00   690.70   \n",
       "       2016-05-02 00:00:00+00:00    698.21   700.64  691.00   697.63   \n",
       "       2016-05-03 00:00:00+00:00    692.36   697.84  692.00   696.87   \n",
       "       2016-05-04 00:00:00+00:00    695.70   699.75  689.01   690.49   \n",
       "\n",
       "                                  adjVolume  divCash  splitFactor  \n",
       "symbol date                                                        \n",
       "GOOG   2016-04-28 00:00:00+00:00    2867255      0.0          1.0  \n",
       "       2016-04-29 00:00:00+00:00    2487673      0.0          1.0  \n",
       "       2016-05-02 00:00:00+00:00    1645265      0.0          1.0  \n",
       "       2016-05-03 00:00:00+00:00    1543785      0.0          1.0  \n",
       "       2016-05-04 00:00:00+00:00    1693525      0.0          1.0  "
      ]
     },
     "execution_count": 4,
     "metadata": {},
     "output_type": "execute_result"
    },
    {
     "data": {
      "image/png": "[encoded data removed]",
      "text/plain": [
       "<Figure size 432x288 with 1 Axes>"
      ]
     },
     "metadata": {
      "needs_background": "light"
     },
     "output_type": "display_data"
    }
   ],
   "source": [
    "import pandas_datareader as pdr\n",
    "import seaborn as sns\n",
    "\n",
    "TINGO_API_KEY = \"c179c68a459f2347a84e20f77926f6840a9150be\"\n",
    "df = pdr.get_data_tiingo('GOOG', api_key=TINGO_API_KEY)\n",
    "\n",
    "\n",
    "sns.lineplot(x=df.index.levels[1], y=\"adjClose\", data=df)\n",
    "df.head()\n",
    "\n"
   ]
  },
  {
   "cell_type": "code",
   "execution_count": 7,
   "metadata": {},
   "outputs": [
    {
     "data": {
      "text/plain": [
       "<matplotlib.axes._subplots.AxesSubplot at 0x1fc2f21c4c8>"
      ]
     },
     "execution_count": 7,
     "metadata": {},
     "output_type": "execute_result"
    },
    {
     "data": {
      "image/png": "[encoded data removed]",
      "text/plain": [
       "<Figure size 432x288 with 1 Axes>"
      ]
     },
     "metadata": {
      "needs_background": "light"
     },
     "output_type": "display_data"
    }
   ],
   "source": [
    "import pandas_datareader.data as web\n",
    "\n",
    "df = web.DataReader('^KOSPI', 'stooq')\n",
    "sns.lineplot(x=df.index, y=\"Close\", data=df)"
   ]
  },
  {
   "cell_type": "code",
   "execution_count": null,
   "metadata": {},
   "outputs": [],
   "source": []
  }
 ],
 "metadata": {
  "kernelspec": {
   "display_name": "Python 3",
   "language": "python",
   "name": "python3"
  },
  "language_info": {
   "codemirror_mode": {
    "name": "ipython",
    "version": 3
   },
   "file_extension": ".py",
   "mimetype": "text/x-python",
   "name": "python",
   "nbconvert_exporter": "python",
   "pygments_lexer": "ipython3",
   "version": "3.7.4"
  }
 },
 "nbformat": 4,
 "nbformat_minor": 2
}
