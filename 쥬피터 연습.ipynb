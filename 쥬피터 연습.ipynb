{
 "cells": [
  {
   "cell_type": "code",
   "execution_count": 4,
   "metadata": {},
   "outputs": [
    {
     "data": {
      "text/html": [
       "<div>\n",
       "<style scoped>\n",
       "    .dataframe tbody tr th:only-of-type {\n",
       "        vertical-align: middle;\n",
       "    }\n",
       "\n",
       "    .dataframe tbody tr th {\n",
       "        vertical-align: top;\n",
       "    }\n",
       "\n",
       "    .dataframe thead th {\n",
       "        text-align: right;\n",
       "    }\n",
       "</style>\n",
       "<table border=\"1\" class=\"dataframe\">\n",
       "  <thead>\n",
       "    <tr style=\"text-align: right;\">\n",
       "      <th></th>\n",
       "      <th></th>\n",
       "      <th>close</th>\n",
       "      <th>high</th>\n",
       "      <th>low</th>\n",
       "      <th>open</th>\n",
       "      <th>volume</th>\n",
       "      <th>adjClose</th>\n",
       "      <th>adjHigh</th>\n",
       "      <th>adjLow</th>\n",
       "      <th>adjOpen</th>\n",
       "      <th>adjVolume</th>\n",
       "      <th>divCash</th>\n",
       "      <th>splitFactor</th>\n",
       "    </tr>\n",
       "    <tr>\n",
       "      <th>symbol</th>\n",
       "      <th>date</th>\n",
       "      <th></th>\n",
       "      <th></th>\n",
       "      <th></th>\n",
       "      <th></th>\n",
       "      <th></th>\n",
       "      <th></th>\n",
       "      <th></th>\n",
       "      <th></th>\n",
       "      <th></th>\n",
       "      <th></th>\n",
       "      <th></th>\n",
       "      <th></th>\n",
       "    </tr>\n",
       "  </thead>\n",
       "  <tbody>\n",
       "    <tr>\n",
       "      <td rowspan=\"5\" valign=\"top\">GOOG</td>\n",
       "      <td>2016-04-28 00:00:00+00:00</td>\n",
       "      <td>691.02</td>\n",
       "      <td>714.17</td>\n",
       "      <td>689.55</td>\n",
       "      <td>708.26</td>\n",
       "      <td>2867255</td>\n",
       "      <td>691.02</td>\n",
       "      <td>714.17</td>\n",
       "      <td>689.55</td>\n",
       "      <td>708.26</td>\n",
       "      <td>2867255</td>\n",
       "      <td>0.0</td>\n",
       "      <td>1.0</td>\n",
       "    </tr>\n",
       "    <tr>\n",
       "      <td>2016-04-29 00:00:00+00:00</td>\n",
       "      <td>693.01</td>\n",
       "      <td>697.62</td>\n",
       "      <td>689.00</td>\n",
       "      <td>690.70</td>\n",
       "      <td>2487673</td>\n",
       "      <td>693.01</td>\n",
       "      <td>697.62</td>\n",
       "      <td>689.00</td>\n",
       "      <td>690.70</td>\n",
       "      <td>2487673</td>\n",
       "      <td>0.0</td>\n",
       "      <td>1.0</td>\n",
       "    </tr>\n",
       "    <tr>\n",
       "      <td>2016-05-02 00:00:00+00:00</td>\n",
       "      <td>698.21</td>\n",
       "      <td>700.64</td>\n",
       "      <td>691.00</td>\n",
       "      <td>697.63</td>\n",
       "      <td>1645265</td>\n",
       "      <td>698.21</td>\n",
       "      <td>700.64</td>\n",
       "      <td>691.00</td>\n",
       "      <td>697.63</td>\n",
       "      <td>1645265</td>\n",
       "      <td>0.0</td>\n",
       "      <td>1.0</td>\n",
       "    </tr>\n",
       "    <tr>\n",
       "      <td>2016-05-03 00:00:00+00:00</td>\n",
       "      <td>692.36</td>\n",
       "      <td>697.84</td>\n",
       "      <td>692.00</td>\n",
       "      <td>696.87</td>\n",
       "      <td>1543785</td>\n",
       "      <td>692.36</td>\n",
       "      <td>697.84</td>\n",
       "      <td>692.00</td>\n",
       "      <td>696.87</td>\n",
       "      <td>1543785</td>\n",
       "      <td>0.0</td>\n",
       "      <td>1.0</td>\n",
       "    </tr>\n",
       "    <tr>\n",
       "      <td>2016-05-04 00:00:00+00:00</td>\n",
       "      <td>695.70</td>\n",
       "      <td>699.75</td>\n",
       "      <td>689.01</td>\n",
       "      <td>690.49</td>\n",
       "      <td>1693525</td>\n",
       "      <td>695.70</td>\n",
       "      <td>699.75</td>\n",
       "      <td>689.01</td>\n",
       "      <td>690.49</td>\n",
       "      <td>1693525</td>\n",
       "      <td>0.0</td>\n",
       "      <td>1.0</td>\n",
       "    </tr>\n",
       "  </tbody>\n",
       "</table>\n",
       "</div>"
      ],
      "text/plain": [
       "                                   close    high     low    open   volume  \\\n",
       "symbol date                                                                 \n",
       "GOOG   2016-04-28 00:00:00+00:00  691.02  714.17  689.55  708.26  2867255   \n",
       "       2016-04-29 00:00:00+00:00  693.01  697.62  689.00  690.70  2487673   \n",
       "       2016-05-02 00:00:00+00:00  698.21  700.64  691.00  697.63  1645265   \n",
       "       2016-05-03 00:00:00+00:00  692.36  697.84  692.00  696.87  1543785   \n",
       "       2016-05-04 00:00:00+00:00  695.70  699.75  689.01  690.49  1693525   \n",
       "\n",
       "                                  adjClose  adjHigh  adjLow  adjOpen  \\\n",
       "symbol date                                                            \n",
       "GOOG   2016-04-28 00:00:00+00:00    691.02   714.17  689.55   708.26   \n",
       "       2016-04-29 00:00:00+00:00    693.01   697.62  689.00   690.70   \n",
       "       2016-05-02 00:00:00+00:00    698.21   700.64  691.00   697.63   \n",
       "       2016-05-03 00:00:00+00:00    692.36   697.84  692.00   696.87   \n",
       "       2016-05-04 00:00:00+00:00    695.70   699.75  689.01   690.49   \n",
       "\n",
       "                                  adjVolume  divCash  splitFactor  \n",
       "symbol date                                                        \n",
       "GOOG   2016-04-28 00:00:00+00:00    2867255      0.0          1.0  \n",
       "       2016-04-29 00:00:00+00:00    2487673      0.0          1.0  \n",
       "       2016-05-02 00:00:00+00:00    1645265      0.0          1.0  \n",
       "       2016-05-03 00:00:00+00:00    1543785      0.0          1.0  \n",
       "       2016-05-04 00:00:00+00:00    1693525      0.0          1.0  "
      ]
     },
     "execution_count": 4,
     "metadata": {},
     "output_type": "execute_result"
    },
    {
     "data": {
      "image/png": "[encoded data removed]",
      "text/plain": [
       "<Figure size 432x288 with 1 Axes>"
      ]
     },
     "metadata": {
      "needs_background": "light"
     },
     "output_type": "display_data"
    }
   ],
   "source": [
    "# 주가데이터\n",
    "import pandas_datareader as pdr\n",
    "import seaborn as sns\n",
    "\n",
    "TINGO_API_KEY = \"c179c68a459f2347a84e20f77926f6840a9150be\"\n",
    "df = pdr.get_data_tiingo('GOOG', api_key=TINGO_API_KEY)\n",
    "\n",
    "\n",
    "sns.lineplot(x=df.index.levels[1], y=\"adjClose\", data=df)\n",
    "df.head()\n",
    "\n"
   ]
  },
  {
   "cell_type": "code",
   "execution_count": 4,
   "metadata": {},
   "outputs": [
    {
     "data": {
      "text/plain": [
       "<matplotlib.axes._subplots.AxesSubplot at 0x27b3fa6cd48>"
      ]
     },
     "execution_count": 4,
     "metadata": {},
     "output_type": "execute_result"
    },
    {
     "data": {
      "image/png": "[encoded data removed]",
      "text/plain": [
       "<Figure size 432x288 with 1 Axes>"
      ]
     },
     "metadata": {
      "needs_background": "light"
     },
     "output_type": "display_data"
    }
   ],
   "source": [
    "# 주가 지수 데이터\n",
    "import pandas_datareader.data as web\n",
    "import seaborn as sns\n",
    "\n",
    "df = web.DataReader('^KOSPI', 'stooq')\n",
    "sns.lineplot(x=df.index, y=\"Close\", data=df)"
   ]
  },
  {
   "cell_type": "code",
   "execution_count": 1,
   "metadata": {
    "scrolled": true
   },
   "outputs": [
    {
     "data": {
      "text/html": [
       "<div>\n",
       "<style scoped>\n",
       "    .dataframe tbody tr th:only-of-type {\n",
       "        vertical-align: middle;\n",
       "    }\n",
       "\n",
       "    .dataframe tbody tr th {\n",
       "        vertical-align: top;\n",
       "    }\n",
       "\n",
       "    .dataframe thead th {\n",
       "        text-align: right;\n",
       "    }\n",
       "</style>\n",
       "<table border=\"1\" class=\"dataframe\">\n",
       "  <thead>\n",
       "    <tr style=\"text-align: right;\">\n",
       "      <th></th>\n",
       "      <th>USD/KRW</th>\n",
       "    </tr>\n",
       "  </thead>\n",
       "  <tbody>\n",
       "    <tr>\n",
       "      <td>From_Currency Code</td>\n",
       "      <td>USD</td>\n",
       "    </tr>\n",
       "    <tr>\n",
       "      <td>From_Currency Name</td>\n",
       "      <td>United States Dollar</td>\n",
       "    </tr>\n",
       "    <tr>\n",
       "      <td>To_Currency Code</td>\n",
       "      <td>KRW</td>\n",
       "    </tr>\n",
       "    <tr>\n",
       "      <td>To_Currency Name</td>\n",
       "      <td>South Korean Won</td>\n",
       "    </tr>\n",
       "    <tr>\n",
       "      <td>Exchange Rate</td>\n",
       "      <td>1122.38000000</td>\n",
       "    </tr>\n",
       "  </tbody>\n",
       "</table>\n",
       "</div>"
      ],
      "text/plain": [
       "                                 USD/KRW\n",
       "From_Currency Code                   USD\n",
       "From_Currency Name  United States Dollar\n",
       "To_Currency Code                     KRW\n",
       "To_Currency Name        South Korean Won\n",
       "Exchange Rate              1122.38000000"
      ]
     },
     "execution_count": 1,
     "metadata": {},
     "output_type": "execute_result"
    }
   ],
   "source": [
    "# 환율데이터\n",
    "import pandas_datareader.data as web\n",
    "\n",
    "ALPHAVANTAGE_API_KEY = \"c179c68a459f2347a84e20f77926f6840a9150be\"\n",
    "df_1 = web.DataReader(\"USD/KRW\", \"av-forex\", api_key=ALPHAVANTAGE_API_KEY)\n",
    "df_1.head()"
   ]
  },
  {
   "cell_type": "code",
   "execution_count": 15,
   "metadata": {},
   "outputs": [
    {
     "ename": "KeyError",
     "evalue": "'Time Series FX(Daily)'",
     "output_type": "error",
     "traceback": [
      "\u001b[1;31m---------------------------------------------------------------------------\u001b[0m",
      "\u001b[1;31mKeyError\u001b[0m                                  Traceback (most recent call last)",
      "\u001b[1;32m<ipython-input-15-e1b519495641>\u001b[0m in \u001b[0;36m<module>\u001b[1;34m\u001b[0m\n\u001b[0;32m     10\u001b[0m \u001b[0mresult_read\u001b[0m \u001b[1;33m=\u001b[0m \u001b[0mresult\u001b[0m\u001b[1;33m.\u001b[0m\u001b[0mread\u001b[0m\u001b[1;33m(\u001b[0m\u001b[1;33m)\u001b[0m\u001b[1;33m\u001b[0m\u001b[1;33m\u001b[0m\u001b[0m\n\u001b[0;32m     11\u001b[0m \u001b[1;33m\u001b[0m\u001b[0m\n\u001b[1;32m---> 12\u001b[1;33m \u001b[0mdf\u001b[0m \u001b[1;33m=\u001b[0m \u001b[0mpd\u001b[0m\u001b[1;33m.\u001b[0m\u001b[0mDataFrame\u001b[0m\u001b[1;33m(\u001b[0m\u001b[0mjson\u001b[0m\u001b[1;33m.\u001b[0m\u001b[0mloads\u001b[0m\u001b[1;33m(\u001b[0m\u001b[0mresult_read\u001b[0m\u001b[1;33m)\u001b[0m\u001b[1;33m[\u001b[0m\u001b[1;34m'Time Series FX(Daily)'\u001b[0m\u001b[1;33m]\u001b[0m\u001b[1;33m)\u001b[0m\u001b[1;33m.\u001b[0m\u001b[0mT\u001b[0m\u001b[1;33m\u001b[0m\u001b[1;33m\u001b[0m\u001b[0m\n\u001b[0m\u001b[0;32m     13\u001b[0m \u001b[0mdf\u001b[0m\u001b[1;33m.\u001b[0m\u001b[0mhead\u001b[0m\u001b[1;33m(\u001b[0m\u001b[1;33m)\u001b[0m\u001b[1;33m\u001b[0m\u001b[1;33m\u001b[0m\u001b[0m\n",
      "\u001b[1;31mKeyError\u001b[0m: 'Time Series FX(Daily)'"
     ]
    }
   ],
   "source": [
    "# 주별, 월별 환율 얻을려 했는데 계속 Time 에러 뜸(왜 그럴까 고민중)\n",
    "import pandas_datareader.data as web\n",
    "from urllib.request import urlopen\n",
    "import json\n",
    "import pandas as pd\n",
    "\n",
    "ALPHAVANTAGE_API_KEY = \"c179c68a459f2347a84e20f77926f6840a9150be\"\n",
    "url = \"https://www.alphavantage.co/query?function=FX_DAILY&from_symbol=USD&to_symbol=KRW&outputsize=compact&apikey=\"+ALPHAVANTAGE_API_KEY\n",
    "\n",
    "result = urlopen(url)\n",
    "result_read = result.read()\n",
    "\n",
    "df = pd.DataFrame(json.loads(result_read)[\"Time Series FX(Daily)\"]).T\n",
    "# Time Seriex FX(Daily)가 계속 keyerror뜸\n",
    "df.head()"
   ]
  },
  {
   "cell_type": "code",
   "execution_count": 16,
   "metadata": {},
   "outputs": [
    {
     "data": {
      "text/html": [
       "<div>\n",
       "<style scoped>\n",
       "    .dataframe tbody tr th:only-of-type {\n",
       "        vertical-align: middle;\n",
       "    }\n",
       "\n",
       "    .dataframe tbody tr th {\n",
       "        vertical-align: top;\n",
       "    }\n",
       "\n",
       "    .dataframe thead th {\n",
       "        text-align: right;\n",
       "    }\n",
       "</style>\n",
       "<table border=\"1\" class=\"dataframe\">\n",
       "  <thead>\n",
       "    <tr style=\"text-align: right;\">\n",
       "      <th></th>\n",
       "      <th>DCOILWTICO</th>\n",
       "    </tr>\n",
       "    <tr>\n",
       "      <th>DATE</th>\n",
       "      <th></th>\n",
       "    </tr>\n",
       "  </thead>\n",
       "  <tbody>\n",
       "    <tr>\n",
       "      <td>2015-01-01</td>\n",
       "      <td>NaN</td>\n",
       "    </tr>\n",
       "    <tr>\n",
       "      <td>2015-01-02</td>\n",
       "      <td>52.72</td>\n",
       "    </tr>\n",
       "    <tr>\n",
       "      <td>2015-01-05</td>\n",
       "      <td>50.05</td>\n",
       "    </tr>\n",
       "    <tr>\n",
       "      <td>2015-01-06</td>\n",
       "      <td>47.98</td>\n",
       "    </tr>\n",
       "    <tr>\n",
       "      <td>2015-01-07</td>\n",
       "      <td>48.69</td>\n",
       "    </tr>\n",
       "  </tbody>\n",
       "</table>\n",
       "</div>"
      ],
      "text/plain": [
       "            DCOILWTICO\n",
       "DATE                  \n",
       "2015-01-01         NaN\n",
       "2015-01-02       52.72\n",
       "2015-01-05       50.05\n",
       "2015-01-06       47.98\n",
       "2015-01-07       48.69"
      ]
     },
     "execution_count": 16,
     "metadata": {},
     "output_type": "execute_result"
    }
   ],
   "source": [
    "# 원자재 oil가격 \n",
    "import pandas_datareader.data as web\n",
    "import datetime\n",
    "\n",
    "start = datetime.datetime(2015, 1, 1)\n",
    "end = datetime.datetime(2020, 12, 31)\n",
    "\n",
    "oil = web.DataReader('DCOILWTICO', 'fred', start, end)\n",
    "oil.head()"
   ]
  },
  {
   "cell_type": "code",
   "execution_count": 18,
   "metadata": {},
   "outputs": [
    {
     "data": {
      "text/html": [
       "<div>\n",
       "<style scoped>\n",
       "    .dataframe tbody tr th:only-of-type {\n",
       "        vertical-align: middle;\n",
       "    }\n",
       "\n",
       "    .dataframe tbody tr th {\n",
       "        vertical-align: top;\n",
       "    }\n",
       "\n",
       "    .dataframe thead th {\n",
       "        text-align: right;\n",
       "    }\n",
       "</style>\n",
       "<table border=\"1\" class=\"dataframe\">\n",
       "  <thead>\n",
       "    <tr style=\"text-align: right;\">\n",
       "      <th></th>\n",
       "      <th>id</th>\n",
       "      <th>name</th>\n",
       "      <th>unit</th>\n",
       "      <th>source</th>\n",
       "      <th>sourceNote</th>\n",
       "      <th>sourceOrganization</th>\n",
       "      <th>topics</th>\n",
       "    </tr>\n",
       "  </thead>\n",
       "  <tbody>\n",
       "    <tr>\n",
       "      <td>716</td>\n",
       "      <td>6.0.GDPpc_constant</td>\n",
       "      <td>GDP per capita, PPP (constant 2011 internation...</td>\n",
       "      <td></td>\n",
       "      <td>LAC Equity Lab</td>\n",
       "      <td>GDP per capita based on purchasing power parit...</td>\n",
       "      <td>b'World Development Indicators (World Bank)'</td>\n",
       "      <td>Economy &amp; Growth</td>\n",
       "    </tr>\n",
       "    <tr>\n",
       "      <td>9194</td>\n",
       "      <td>NY.GDP.PCAP.KD</td>\n",
       "      <td>GDP per capita (constant 2010 US$)</td>\n",
       "      <td></td>\n",
       "      <td>World Development Indicators</td>\n",
       "      <td>GDP per capita is gross domestic product divid...</td>\n",
       "      <td>b'World Bank national accounts data, and OECD ...</td>\n",
       "      <td>Economy &amp; Growth</td>\n",
       "    </tr>\n",
       "    <tr>\n",
       "      <td>9196</td>\n",
       "      <td>NY.GDP.PCAP.KN</td>\n",
       "      <td>GDP per capita (constant LCU)</td>\n",
       "      <td></td>\n",
       "      <td>World Development Indicators</td>\n",
       "      <td>GDP per capita is gross domestic product divid...</td>\n",
       "      <td>b'World Bank national accounts data, and OECD ...</td>\n",
       "      <td>Economy &amp; Growth</td>\n",
       "    </tr>\n",
       "    <tr>\n",
       "      <td>9198</td>\n",
       "      <td>NY.GDP.PCAP.PP.KD</td>\n",
       "      <td>GDP per capita, PPP (constant 2017 internation...</td>\n",
       "      <td></td>\n",
       "      <td>World Development Indicators</td>\n",
       "      <td>GDP per capita based on purchasing power parit...</td>\n",
       "      <td>b'International Comparison Program, World Bank...</td>\n",
       "      <td>Economy &amp; Growth</td>\n",
       "    </tr>\n",
       "    <tr>\n",
       "      <td>9199</td>\n",
       "      <td>NY.GDP.PCAP.PP.KD.87</td>\n",
       "      <td>GDP per capita, PPP (constant 1987 internation...</td>\n",
       "      <td></td>\n",
       "      <td>WDI Database Archives</td>\n",
       "      <td></td>\n",
       "      <td>b''</td>\n",
       "      <td></td>\n",
       "    </tr>\n",
       "  </tbody>\n",
       "</table>\n",
       "</div>"
      ],
      "text/plain": [
       "                        id                                               name  \\\n",
       "716     6.0.GDPpc_constant  GDP per capita, PPP (constant 2011 internation...   \n",
       "9194        NY.GDP.PCAP.KD                 GDP per capita (constant 2010 US$)   \n",
       "9196        NY.GDP.PCAP.KN                      GDP per capita (constant LCU)   \n",
       "9198     NY.GDP.PCAP.PP.KD  GDP per capita, PPP (constant 2017 internation...   \n",
       "9199  NY.GDP.PCAP.PP.KD.87  GDP per capita, PPP (constant 1987 internation...   \n",
       "\n",
       "     unit                        source  \\\n",
       "716                      LAC Equity Lab   \n",
       "9194       World Development Indicators   \n",
       "9196       World Development Indicators   \n",
       "9198       World Development Indicators   \n",
       "9199              WDI Database Archives   \n",
       "\n",
       "                                             sourceNote  \\\n",
       "716   GDP per capita based on purchasing power parit...   \n",
       "9194  GDP per capita is gross domestic product divid...   \n",
       "9196  GDP per capita is gross domestic product divid...   \n",
       "9198  GDP per capita based on purchasing power parit...   \n",
       "9199                                                      \n",
       "\n",
       "                                     sourceOrganization            topics  \n",
       "716        b'World Development Indicators (World Bank)'  Economy & Growth  \n",
       "9194  b'World Bank national accounts data, and OECD ...  Economy & Growth  \n",
       "9196  b'World Bank national accounts data, and OECD ...  Economy & Growth  \n",
       "9198  b'International Comparison Program, World Bank...  Economy & Growth  \n",
       "9199                                                b''                    "
      ]
     },
     "execution_count": 18,
     "metadata": {},
     "output_type": "execute_result"
    }
   ],
   "source": [
    "# World Bank를 통한 GDP정보 search 함수를 이용해 데이터 코드 검색\n",
    "from pandas_datareader import wb\n",
    "\n",
    "wb.search('gdp.*capita.*const')"
   ]
  },
  {
   "cell_type": "code",
   "execution_count": 24,
   "metadata": {},
   "outputs": [
    {
     "data": {
      "text/plain": [
       "<matplotlib.axes._subplots.AxesSubplot at 0x1b877b56ec8>"
      ]
     },
     "execution_count": 24,
     "metadata": {},
     "output_type": "execute_result"
    },
    {
     "data": {
      "image/png": "[encoded data removed]",
      "text/plain": [
       "<Figure size 432x288 with 1 Axes>"
      ]
     },
     "metadata": {
      "needs_background": "light"
     },
     "output_type": "display_data"
    }
   ],
   "source": [
    "# \n",
    "from pandas_datareader import wb\n",
    "import seaborn as sns\n",
    "\n",
    "code = \"NY.GDP.PCAP.PP.KD\"\n",
    "matches = wb.search('gdp.*capita.*const')\n",
    "data = wb.download(indicator=code, country=['JPN', 'KOR'], start=2013, end=2019)\n",
    "data = data.reset_index(drop=False)\n",
    "sns.lineplot(x=\"year\", y=code, hue=\"country\", data=data)"
   ]
  },
  {
   "cell_type": "code",
   "execution_count": null,
   "metadata": {},
   "outputs": [],
   "source": []
  }
 ],
 "metadata": {
  "kernelspec": {
   "display_name": "Python 3",
   "language": "python",
   "name": "python3"
  },
  "language_info": {
   "codemirror_mode": {
    "name": "ipython",
    "version": 3
   },
   "file_extension": ".py",
   "mimetype": "text/x-python",
   "name": "python",
   "nbconvert_exporter": "python",
   "pygments_lexer": "ipython3",
   "version": "3.7.4"
  }
 },
 "nbformat": 4,
 "nbformat_minor": 2
}
